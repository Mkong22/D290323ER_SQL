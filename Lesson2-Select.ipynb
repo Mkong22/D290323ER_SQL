{
    "metadata": {
        "kernelspec": {
            "name": "SQL",
            "display_name": "SQL",
            "language": "sql"
        },
        "language_info": {
            "name": "sql",
            "version": ""
        }
    },
    "nbformat_minor": 2,
    "nbformat": 4,
    "cells": [
        {
            "cell_type": "code",
            "source": [
                "USE [MyLibrary];"
            ],
            "metadata": {
                "azdata_cell_guid": "631ec12b-f178-443c-925f-1f4398bbf1eb",
                "language": "sql"
            },
            "outputs": [
                {
                    "output_type": "display_data",
                    "data": {
                        "text/html": "Commands completed successfully."
                    },
                    "metadata": {}
                },
                {
                    "output_type": "display_data",
                    "data": {
                        "text/html": "Total execution time: 00:00:00.003"
                    },
                    "metadata": {}
                }
            ],
            "execution_count": 2
        },
        {
            "cell_type": "code",
            "source": [
                "SELECT \r\n",
                "    [Password] AS [Pwd],\r\n",
                "    [FirstName] + ' ' + [LastName] AS [FullName]\r\n",
                "FROM\r\n",
                "    [Users]"
            ],
            "metadata": {
                "language": "sql",
                "azdata_cell_guid": "e7bf5239-185b-4ac8-bda1-219dec797f5f"
            },
            "outputs": [
                {
                    "output_type": "display_data",
                    "data": {
                        "text/html": "(2 rows affected)"
                    },
                    "metadata": {}
                },
                {
                    "output_type": "display_data",
                    "data": {
                        "text/html": "Total execution time: 00:00:00.019"
                    },
                    "metadata": {}
                },
                {
                    "output_type": "execute_result",
                    "execution_count": 8,
                    "data": {
                        "application/vnd.dataresource+json": {
                            "schema": {
                                "fields": [
                                    {
                                        "name": "Pwd"
                                    },
                                    {
                                        "name": "FullName"
                                    }
                                ]
                            },
                            "data": [
                                {
                                    "Pwd": "1234",
                                    "FullName": "Simon Stirling"
                                },
                                {
                                    "Pwd": "4444555",
                                    "FullName": "Jane Doe"
                                }
                            ]
                        },
                        "text/html": "<table><tr><th>Pwd</th><th>FullName</th></tr><tr><td>1234</td><td>Simon Stirling</td></tr><tr><td>4444555</td><td>Jane Doe</td></tr></table>"
                    },
                    "metadata": {}
                }
            ],
            "execution_count": 8
        },
        {
            "cell_type": "code",
            "source": [
                "SELECT\r\n",
                "    *\r\n",
                "FROM\r\n",
                "    [Users]"
            ],
            "metadata": {
                "language": "sql",
                "azdata_cell_guid": "48fa88a9-c621-4f92-b1bf-a84f84f0ddd1"
            },
            "outputs": [
                {
                    "output_type": "display_data",
                    "data": {
                        "text/html": "(2 rows affected)"
                    },
                    "metadata": {}
                },
                {
                    "output_type": "display_data",
                    "data": {
                        "text/html": "Total execution time: 00:00:00.047"
                    },
                    "metadata": {}
                },
                {
                    "output_type": "execute_result",
                    "execution_count": 11,
                    "data": {
                        "application/vnd.dataresource+json": {
                            "schema": {
                                "fields": [
                                    {
                                        "name": "ID"
                                    },
                                    {
                                        "name": "FirstName"
                                    },
                                    {
                                        "name": "LastName"
                                    },
                                    {
                                        "name": "Password"
                                    },
                                    {
                                        "name": "LastLogin"
                                    },
                                    {
                                        "name": "UserName"
                                    }
                                ]
                            },
                            "data": [
                                {
                                    "ID": "1",
                                    "FirstName": "Simon",
                                    "LastName": "Stirling",
                                    "Password": "1234",
                                    "LastLogin": "2024-01-01 00:00:00.000",
                                    "UserName": "simonsbs"
                                },
                                {
                                    "ID": "3",
                                    "FirstName": "Jane",
                                    "LastName": "Doe",
                                    "Password": "4444555",
                                    "LastLogin": "2020-01-01 00:00:00.000",
                                    "UserName": "user1"
                                }
                            ]
                        },
                        "text/html": "<table><tr><th>ID</th><th>FirstName</th><th>LastName</th><th>Password</th><th>LastLogin</th><th>UserName</th></tr><tr><td>1</td><td>Simon</td><td>Stirling</td><td>1234</td><td>2024-01-01 00:00:00.000</td><td>simonsbs</td></tr><tr><td>3</td><td>Jane</td><td>Doe</td><td>4444555</td><td>2020-01-01 00:00:00.000</td><td>user1</td></tr></table>"
                    },
                    "metadata": {}
                }
            ],
            "execution_count": 11
        },
        {
            "cell_type": "code",
            "source": [
                "SELECT\r\n",
                "    [ID],\r\n",
                "    [FirstName]\r\n",
                "FROM\r\n",
                "    [Users]"
            ],
            "metadata": {
                "language": "sql",
                "azdata_cell_guid": "84c16000-ec5c-4cf4-8194-addd5baa2539",
                "tags": []
            },
            "outputs": [
                {
                    "output_type": "display_data",
                    "data": {
                        "text/html": "(5 rows affected)"
                    },
                    "metadata": {}
                },
                {
                    "output_type": "display_data",
                    "data": {
                        "text/html": "Total execution time: 00:00:00.036"
                    },
                    "metadata": {}
                },
                {
                    "output_type": "execute_result",
                    "metadata": {},
                    "execution_count": 13,
                    "data": {
                        "application/vnd.dataresource+json": {
                            "schema": {
                                "fields": [
                                    {
                                        "name": "ID"
                                    },
                                    {
                                        "name": "FirstName"
                                    }
                                ]
                            },
                            "data": [
                                {
                                    "ID": "1",
                                    "FirstName": "Simon"
                                },
                                {
                                    "ID": "4",
                                    "FirstName": "aaa"
                                },
                                {
                                    "ID": "3",
                                    "FirstName": "Jane"
                                },
                                {
                                    "ID": "5",
                                    "FirstName": "bbb"
                                },
                                {
                                    "ID": "6",
                                    "FirstName": "ccc"
                                }
                            ]
                        },
                        "text/html": [
                            "<table>",
                            "<tr><th>ID</th><th>FirstName</th></tr>",
                            "<tr><td>1</td><td>Simon</td></tr>",
                            "<tr><td>4</td><td>aaa</td></tr>",
                            "<tr><td>3</td><td>Jane</td></tr>",
                            "<tr><td>5</td><td>bbb</td></tr>",
                            "<tr><td>6</td><td>ccc</td></tr>",
                            "</table>"
                        ]
                    }
                }
            ],
            "execution_count": 13
        },
        {
            "cell_type": "code",
            "source": [
                "SELECT\r\n",
                "    *\r\n",
                "FROM\r\n",
                "    [Users]\r\n",
                "WHERE\r\n",
                "    [ID] = 3\r\n",
                "    OR\r\n",
                "    [FirstName] = 'Simon'"
            ],
            "metadata": {
                "language": "sql",
                "azdata_cell_guid": "931f1241-fb7c-4d99-b7bf-8bfeb50c0ae6"
            },
            "outputs": [
                {
                    "output_type": "display_data",
                    "data": {
                        "text/html": "(2 rows affected)"
                    },
                    "metadata": {}
                },
                {
                    "output_type": "display_data",
                    "data": {
                        "text/html": "Total execution time: 00:00:00.008"
                    },
                    "metadata": {}
                },
                {
                    "output_type": "execute_result",
                    "metadata": {},
                    "execution_count": 11,
                    "data": {
                        "application/vnd.dataresource+json": {
                            "schema": {
                                "fields": [
                                    {
                                        "name": "ID"
                                    },
                                    {
                                        "name": "FirstName"
                                    },
                                    {
                                        "name": "LastName"
                                    },
                                    {
                                        "name": "Password"
                                    },
                                    {
                                        "name": "LastLogin"
                                    },
                                    {
                                        "name": "UserName"
                                    }
                                ]
                            },
                            "data": [
                                {
                                    "ID": "1",
                                    "FirstName": "Simon",
                                    "LastName": "Stirling",
                                    "Password": "1234",
                                    "LastLogin": "2024-01-01 00:00:00.000",
                                    "UserName": "simonsbs"
                                },
                                {
                                    "ID": "3",
                                    "FirstName": "Jane",
                                    "LastName": "Doe",
                                    "Password": "4444555",
                                    "LastLogin": "2020-01-01 00:00:00.000",
                                    "UserName": "user1"
                                }
                            ]
                        },
                        "text/html": [
                            "<table>",
                            "<tr><th>ID</th><th>FirstName</th><th>LastName</th><th>Password</th><th>LastLogin</th><th>UserName</th></tr>",
                            "<tr><td>1</td><td>Simon</td><td>Stirling</td><td>1234</td><td>2024-01-01 00:00:00.000</td><td>simonsbs</td></tr>",
                            "<tr><td>3</td><td>Jane</td><td>Doe</td><td>4444555</td><td>2020-01-01 00:00:00.000</td><td>user1</td></tr>",
                            "</table>"
                        ]
                    }
                }
            ],
            "execution_count": 11
        },
        {
            "cell_type": "code",
            "source": [
                "SELECT\r\n",
                "    *\r\n",
                "FROM\r\n",
                "    [Users]\r\n",
                "WHERE\r\n",
                "    [ID] = 3\r\n",
                "    AND\r\n",
                "    [FirstName] = 'Simon'"
            ],
            "metadata": {
                "language": "sql",
                "azdata_cell_guid": "2fb0a2fa-8ca6-450b-b51f-a9c5fc910a5e"
            },
            "outputs": [
                {
                    "output_type": "display_data",
                    "data": {
                        "text/html": "(0 rows affected)"
                    },
                    "metadata": {}
                },
                {
                    "output_type": "display_data",
                    "data": {
                        "text/html": "Total execution time: 00:00:00.007"
                    },
                    "metadata": {}
                },
                {
                    "output_type": "execute_result",
                    "metadata": {},
                    "execution_count": 12,
                    "data": {
                        "application/vnd.dataresource+json": {
                            "schema": {
                                "fields": [
                                    {
                                        "name": "ID"
                                    },
                                    {
                                        "name": "FirstName"
                                    },
                                    {
                                        "name": "LastName"
                                    },
                                    {
                                        "name": "Password"
                                    },
                                    {
                                        "name": "LastLogin"
                                    },
                                    {
                                        "name": "UserName"
                                    }
                                ]
                            },
                            "data": []
                        },
                        "text/html": [
                            "<table>",
                            "<tr><th>ID</th><th>FirstName</th><th>LastName</th><th>Password</th><th>LastLogin</th><th>UserName</th></tr>",
                            "</table>"
                        ]
                    }
                }
            ],
            "execution_count": 12
        },
        {
            "cell_type": "code",
            "source": [
                "SELECT\r\n",
                "    *\r\n",
                "FROM\r\n",
                "    [Users]\r\n",
                "WHERE\r\n",
                "    [ID] BETWEEN 3 AND 5"
            ],
            "metadata": {
                "language": "sql",
                "azdata_cell_guid": "caade51d-7230-4dff-8326-f41bc218a550",
                "tags": []
            },
            "outputs": [
                {
                    "output_type": "display_data",
                    "data": {
                        "text/html": "(3 rows affected)"
                    },
                    "metadata": {}
                },
                {
                    "output_type": "display_data",
                    "data": {
                        "text/html": "Total execution time: 00:00:00.008"
                    },
                    "metadata": {}
                },
                {
                    "output_type": "execute_result",
                    "metadata": {},
                    "execution_count": 16,
                    "data": {
                        "application/vnd.dataresource+json": {
                            "schema": {
                                "fields": [
                                    {
                                        "name": "ID"
                                    },
                                    {
                                        "name": "FirstName"
                                    },
                                    {
                                        "name": "LastName"
                                    },
                                    {
                                        "name": "Password"
                                    },
                                    {
                                        "name": "LastLogin"
                                    },
                                    {
                                        "name": "UserName"
                                    }
                                ]
                            },
                            "data": [
                                {
                                    "ID": "4",
                                    "FirstName": "aaa",
                                    "LastName": "aaa",
                                    "Password": "aaa",
                                    "LastLogin": "2020-01-01 00:00:00.000",
                                    "UserName": "aaa"
                                },
                                {
                                    "ID": "3",
                                    "FirstName": "Jane",
                                    "LastName": "Doe",
                                    "Password": "4444555",
                                    "LastLogin": "2020-01-01 00:00:00.000",
                                    "UserName": "user1"
                                },
                                {
                                    "ID": "5",
                                    "FirstName": "bbb",
                                    "LastName": "bbb",
                                    "Password": "bbb",
                                    "LastLogin": "2020-01-01 00:00:00.000",
                                    "UserName": "bbb"
                                }
                            ]
                        },
                        "text/html": [
                            "<table>",
                            "<tr><th>ID</th><th>FirstName</th><th>LastName</th><th>Password</th><th>LastLogin</th><th>UserName</th></tr>",
                            "<tr><td>4</td><td>aaa</td><td>aaa</td><td>aaa</td><td>2020-01-01 00:00:00.000</td><td>aaa</td></tr>",
                            "<tr><td>3</td><td>Jane</td><td>Doe</td><td>4444555</td><td>2020-01-01 00:00:00.000</td><td>user1</td></tr>",
                            "<tr><td>5</td><td>bbb</td><td>bbb</td><td>bbb</td><td>2020-01-01 00:00:00.000</td><td>bbb</td></tr>",
                            "</table>"
                        ]
                    }
                }
            ],
            "execution_count": 16
        }
    ]
}