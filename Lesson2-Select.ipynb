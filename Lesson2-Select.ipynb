{
    "metadata": {
        "kernelspec": {
            "name": "SQL",
            "display_name": "SQL",
            "language": "sql"
        },
        "language_info": {
            "name": "sql",
            "version": ""
        }
    },
    "nbformat_minor": 2,
    "nbformat": 4,
    "cells": [
        {
            "cell_type": "code",
            "source": [
                "USE [MyLibrary];"
            ],
            "metadata": {
                "azdata_cell_guid": "631ec12b-f178-443c-925f-1f4398bbf1eb",
                "language": "sql"
            },
            "outputs": [
                {
                    "output_type": "display_data",
                    "data": {
                        "text/html": "Commands completed successfully."
                    },
                    "metadata": {}
                },
                {
                    "output_type": "display_data",
                    "data": {
                        "text/html": "Total execution time: 00:00:00.002"
                    },
                    "metadata": {}
                }
            ],
            "execution_count": 2
        },
        {
            "cell_type": "code",
            "source": [
                "SELECT \r\n",
                "    [Password] AS [Pwd],\r\n",
                "    [FirstName] + ' ' + [LastName] AS [FullName]\r\n",
                "FROM\r\n",
                "    [Users]"
            ],
            "metadata": {
                "language": "sql",
                "azdata_cell_guid": "e7bf5239-185b-4ac8-bda1-219dec797f5f"
            },
            "outputs": [
                {
                    "output_type": "display_data",
                    "data": {
                        "text/html": "(2 rows affected)"
                    },
                    "metadata": {}
                },
                {
                    "output_type": "display_data",
                    "data": {
                        "text/html": "Total execution time: 00:00:00.019"
                    },
                    "metadata": {}
                },
                {
                    "output_type": "execute_result",
                    "metadata": {},
                    "execution_count": 8,
                    "data": {
                        "application/vnd.dataresource+json": {
                            "schema": {
                                "fields": [
                                    {
                                        "name": "Pwd"
                                    },
                                    {
                                        "name": "FullName"
                                    }
                                ]
                            },
                            "data": [
                                {
                                    "Pwd": "1234",
                                    "FullName": "Simon Stirling"
                                },
                                {
                                    "Pwd": "4444555",
                                    "FullName": "Jane Doe"
                                }
                            ]
                        },
                        "text/html": [
                            "<table>",
                            "<tr><th>Pwd</th><th>FullName</th></tr>",
                            "<tr><td>1234</td><td>Simon Stirling</td></tr>",
                            "<tr><td>4444555</td><td>Jane Doe</td></tr>",
                            "</table>"
                        ]
                    }
                }
            ],
            "execution_count": 8
        },
        {
            "cell_type": "code",
            "source": [
                "SELECT\r\n",
                "    *\r\n",
                "FROM\r\n",
                "    [Users]"
            ],
            "metadata": {
                "language": "sql",
                "azdata_cell_guid": "48fa88a9-c621-4f92-b1bf-a84f84f0ddd1"
            },
            "outputs": [
                {
                    "output_type": "display_data",
                    "data": {
                        "text/html": "(2 rows affected)"
                    },
                    "metadata": {}
                },
                {
                    "output_type": "display_data",
                    "data": {
                        "text/html": "Total execution time: 00:00:00.047"
                    },
                    "metadata": {}
                },
                {
                    "output_type": "execute_result",
                    "metadata": {},
                    "execution_count": 11,
                    "data": {
                        "application/vnd.dataresource+json": {
                            "schema": {
                                "fields": [
                                    {
                                        "name": "ID"
                                    },
                                    {
                                        "name": "FirstName"
                                    },
                                    {
                                        "name": "LastName"
                                    },
                                    {
                                        "name": "Password"
                                    },
                                    {
                                        "name": "LastLogin"
                                    },
                                    {
                                        "name": "UserName"
                                    }
                                ]
                            },
                            "data": [
                                {
                                    "ID": "1",
                                    "FirstName": "Simon",
                                    "LastName": "Stirling",
                                    "Password": "1234",
                                    "LastLogin": "2024-01-01 00:00:00.000",
                                    "UserName": "simonsbs"
                                },
                                {
                                    "ID": "3",
                                    "FirstName": "Jane",
                                    "LastName": "Doe",
                                    "Password": "4444555",
                                    "LastLogin": "2020-01-01 00:00:00.000",
                                    "UserName": "user1"
                                }
                            ]
                        },
                        "text/html": [
                            "<table>",
                            "<tr><th>ID</th><th>FirstName</th><th>LastName</th><th>Password</th><th>LastLogin</th><th>UserName</th></tr>",
                            "<tr><td>1</td><td>Simon</td><td>Stirling</td><td>1234</td><td>2024-01-01 00:00:00.000</td><td>simonsbs</td></tr>",
                            "<tr><td>3</td><td>Jane</td><td>Doe</td><td>4444555</td><td>2020-01-01 00:00:00.000</td><td>user1</td></tr>",
                            "</table>"
                        ]
                    }
                }
            ],
            "execution_count": 11
        },
        {
            "cell_type": "code",
            "source": [
                "SELECT\r\n",
                "    [ID],\r\n",
                "    [FirstName]\r\n",
                "FROM\r\n",
                "    [Users]"
            ],
            "metadata": {
                "language": "sql",
                "azdata_cell_guid": "84c16000-ec5c-4cf4-8194-addd5baa2539"
            },
            "outputs": [
                {
                    "output_type": "display_data",
                    "data": {
                        "text/html": "(2 rows affected)"
                    },
                    "metadata": {}
                },
                {
                    "output_type": "display_data",
                    "data": {
                        "text/html": "Total execution time: 00:00:00.018"
                    },
                    "metadata": {}
                },
                {
                    "output_type": "execute_result",
                    "metadata": {},
                    "execution_count": 10,
                    "data": {
                        "application/vnd.dataresource+json": {
                            "schema": {
                                "fields": [
                                    {
                                        "name": "ID"
                                    },
                                    {
                                        "name": "FirstName"
                                    }
                                ]
                            },
                            "data": [
                                {
                                    "ID": "1",
                                    "FirstName": "Simon"
                                },
                                {
                                    "ID": "3",
                                    "FirstName": "Jane"
                                }
                            ]
                        },
                        "text/html": [
                            "<table>",
                            "<tr><th>ID</th><th>FirstName</th></tr>",
                            "<tr><td>1</td><td>Simon</td></tr>",
                            "<tr><td>3</td><td>Jane</td></tr>",
                            "</table>"
                        ]
                    }
                }
            ],
            "execution_count": 10
        }
    ]
}